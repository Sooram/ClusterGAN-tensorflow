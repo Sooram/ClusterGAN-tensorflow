{
 "cells": [
  {
   "cell_type": "code",
   "execution_count": null,
   "metadata": {
    "scrolled": false
   },
   "outputs": [],
   "source": [
    "import os\n",
    "import argparse\n",
    "import tensorflow as tf\n",
    "from clustergan import ClusterGAN\n",
    "\n",
    "parser = argparse.ArgumentParser(description='ClusterGAN')\n",
    "parser.add_argument('--model_dir', type=str, \n",
    "                      default='./exp',\n",
    "                      help='Directory in which the model is stored')\n",
    "#parser.add_argument('--data_dir', type=str,\n",
    "#                      default='../data',\n",
    "#                      help='Directory in which the data is stored')\n",
    "parser.add_argument('--is_training', type=bool, default=False, help='whether it is training or inferecing')\n",
    "parser.add_argument('--n_cat', type=int, default=1, help='number of categorical variables')\n",
    "parser.add_argument('--num_classes', type=int, default=10, help='dimension of categorical variables')\n",
    "parser.add_argument('--dim_gen', type=int, default=30, help='continuous dim of latent variable')\n",
    "parser.add_argument('--z_dim', type=int, default=40, help='random noise dim of latent variable')\n",
    "parser.add_argument('--sampler', type=str, default='one_hot')\n",
    "parser.add_argument('--batch_size', type=int, default=64, help='batch size')\n",
    "parser.add_argument('--epoch', type=int, default=5000, help='epochs')\n",
    "parser.add_argument('--saving_cycle', type=int, default=1, help='how often the model will be saved')\n",
    "parser.add_argument('--d_lr', type=float, default=1e-4, help='learning rate for discriminator')\n",
    "parser.add_argument('--g_lr', type=float, default=1e-4, help='learning rate for generator')\n",
    "parser.add_argument('--gpu_num', type=str, default=\"1\", help='gpu to be used')\n",
    "\n",
    "args, unparsed = parser.parse_known_args()\n",
    "os.environ[\"CUDA_DEVICE_ORDER\"]=\"PCI_BUS_ID\"   # see issue #152\n",
    "os.environ[\"CUDA_VISIBLE_DEVICES\"]=args.gpu_num\n",
    "\n",
    "model = ClusterGAN(args)\n",
    "    \n",
    "# open session \n",
    "# c = tf.ConfigProto()\n",
    "# c.gpu_options.visible_device_list = args.gpu_num\n",
    "\n",
    "# sess = tf.Session(config=c)\n",
    "sess = tf.Session(config=tf.ConfigProto(\n",
    "      allow_soft_placement=True, log_device_placement=True))\n",
    "sess.run(tf.global_variables_initializer())"
   ]
  },
  {
   "cell_type": "code",
   "execution_count": null,
   "metadata": {},
   "outputs": [],
   "source": [
    "if args.model_dir is None:\n",
    "    raise ValueError('Need to provide model directory')\n",
    "\n",
    "# load model\n",
    "model.load(sess, args.model_dir)"
   ]
  },
  {
   "cell_type": "code",
   "execution_count": null,
   "metadata": {},
   "outputs": [],
   "source": [
    "from tensorflow.examples.tutorials.mnist import input_data\n",
    "import numpy as np\n",
    "import matplotlib.pyplot as plt\n",
    "from utils import sample_Z"
   ]
  },
  {
   "cell_type": "code",
   "execution_count": null,
   "metadata": {},
   "outputs": [],
   "source": [
    "\"\"\" give a mode and check the generated imgs with that mode(mode accuracy) \"\"\"\n",
    "for mode in range(args.num_classes):\n",
    "    modes = [mode] * args.batch_size\n",
    "    testz = sample_Z(args.batch_size, args.z_dim, args.sampler, args.num_classes, args.n_cat, modes)\n",
    "    fake = sess.run(model.x_, feed_dict={model.z: testz})\n",
    "    fake = np.reshape(fake, [-1, 28, 28])\n",
    "\n",
    "    dir_path = os.path.join(model.test_dir, str(mode))\n",
    "    if not os.path.exists(dir_path): os.makedirs(dir_path)\n",
    "    for i in range(args.batch_size):\n",
    "        plt.imshow(fake[i])\n",
    "        plt.axis('off')\n",
    "        plt.savefig(os.path.join(dir_path, str(i) + '.png'))"
   ]
  },
  {
   "cell_type": "code",
   "execution_count": null,
   "metadata": {},
   "outputs": [],
   "source": [
    "\"\"\" give real imgs and check how they get clustered(cluster accuracy) \"\"\"\n",
    "mnist = input_data.read_data_sets(\"MNIST_data/\", one_hot=True)\n",
    "bx, bl = mnist.test.next_batch(args.batch_size)\n",
    "bx = np.reshape(bx, [-1, 28, 28, 1])\n",
    "\n",
    "zhats_gen, zhats_label = sess.run([model.z_infer_gen, model.z_infer_label], feed_dict={model.x : bx})\n",
    "\n",
    "mode2label = [6,5,0,3,2,9,7,4,8,1]\n",
    "\n",
    "acc = 0\n",
    "for i in range(args.batch_size):\n",
    "    if(np.argmax(bl[i]) == mode2label[np.argmax(zhats_label[i])]):\n",
    "        acc += 1\n",
    "acc = acc / args.batch_size * 100\n",
    "print(acc)"
   ]
  },
  {
   "cell_type": "code",
   "execution_count": null,
   "metadata": {},
   "outputs": [],
   "source": [
    "\"\"\" reconstruct x_ from z, which is a latent representation of x(reconstruction accuracy) \"\"\"\n",
    "testz = np.concatenate((zhats_gen, zhats_label), axis=1)\n",
    "recon = sess.run(model.x_, feed_dict={model.z: testz})\n",
    "recon = np.reshape(recon, [-1, 28, 28]) # reconstructed image\n",
    "plt.imshow(recon[0])\n",
    "bx = np.reshape(bx, [-1, 28, 28]) # original image\n",
    "plt.imshow(bx[0])"
   ]
  }
 ],
 "metadata": {
  "kernelspec": {
   "display_name": "Python 3",
   "language": "python",
   "name": "python3"
  },
  "language_info": {
   "codemirror_mode": {
    "name": "ipython",
    "version": 3
   },
   "file_extension": ".py",
   "mimetype": "text/x-python",
   "name": "python",
   "nbconvert_exporter": "python",
   "pygments_lexer": "ipython3",
   "version": "3.7.3"
  }
 },
 "nbformat": 4,
 "nbformat_minor": 2
}
